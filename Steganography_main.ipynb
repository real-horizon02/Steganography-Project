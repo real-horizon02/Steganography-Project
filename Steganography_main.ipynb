{
  "nbformat": 4,
  "nbformat_minor": 0,
  "metadata": {
    "colab": {
      "provenance": [],
      "authorship_tag": "ABX9TyNJh4p3jcbQS+/jMS5TKoek",
      "include_colab_link": true
    },
    "kernelspec": {
      "name": "python3",
      "display_name": "Python 3"
    },
    "language_info": {
      "name": "python"
    }
  },
  "cells": [
    {
      "cell_type": "markdown",
      "metadata": {
        "id": "view-in-github",
        "colab_type": "text"
      },
      "source": [
        "<a href=\"https://colab.research.google.com/github/real-horizon02/Steganography-Project/blob/main/Steganography_main.ipynb\" target=\"_parent\"><img src=\"https://colab.research.google.com/assets/colab-badge.svg\" alt=\"Open In Colab\"/></a>"
      ]
    },
    {
      "cell_type": "code",
      "source": [],
      "metadata": {
        "id": "oFUBZZ6NjaiT"
      },
      "execution_count": null,
      "outputs": []
    },
    {
      "cell_type": "code",
      "execution_count": 2,
      "metadata": {
        "colab": {
          "base_uri": "https://localhost:8080/"
        },
        "id": "8_3sBkiweaTz",
        "outputId": "2dba8fe4-bdc8-4aad-99e3-755e07e91c7b"
      },
      "outputs": [
        {
          "output_type": "stream",
          "name": "stdout",
          "text": [
            "Enter secret message:Hello\n",
            "Enter a passcode:hi\n",
            "Enter passcode for Decryption: hi\n",
            "Decryption message:  Hello\n"
          ]
        }
      ],
      "source": [
        "import cv2\n",
        "import os\n",
        "import string\n",
        "\n",
        "img = cv2.imread(\"mypic.jpg\") # Replace with the correct image path\n",
        "\n",
        "msg = input(\"Enter secret message:\")\n",
        "password = input(\"Enter a passcode:\")\n",
        "\n",
        "d = {}\n",
        "c = {}\n",
        "\n",
        "for i in range(255):\n",
        "    d[chr(i)] = i\n",
        "    c[i] = chr(i)\n",
        "\n",
        "m = 0\n",
        "n = 0\n",
        "z = 0\n",
        "\n",
        "for i in range(len(msg)):\n",
        "    img[n, m, z] = d[msg[i]]\n",
        "    n = n + 1\n",
        "    m = m + 1\n",
        "    z = (z + 1) % 3\n",
        "\n",
        "cv2.imwrite(\"encryptedImage.jpg\", img)\n",
        "os.system(\"start encryptedImage.jpg\")  # Use 'start' to open the image on Windows\n",
        "\n",
        "message = \"\"\n",
        "n = 0\n",
        "m = 0\n",
        "z = 0\n",
        "\n",
        "pas = input(\"Enter passcode for Decryption: \")\n",
        "if password == pas:\n",
        "    for i in range(len(msg)):\n",
        "        message = message + c[img[n, m, z]]\n",
        "        n = n + 1\n",
        "        m = m + 1\n",
        "        z = (z + 1) % 3\n",
        "    print(\"Decryption message: \", message)\n",
        "else:\n",
        "    print(\"Incorrect passcode\")"
      ]
    }
  ]
}